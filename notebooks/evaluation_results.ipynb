{
 "cells": [
  {
   "cell_type": "code",
   "execution_count": null,
   "metadata": {},
   "outputs": [],
   "source": [
    "import torch\n",
    "from datasets import Dataset\n",
    "from sklearn.metrics import accuracy_score, f1_score\n",
    "# Load preprocessed data\n",
    "tokenized_data = torch.load(\"../data/processed/tokenized_data.pt\")\n",
    "labels = torch.load(\"../data/processed/labels.pt\")\n",
    "\n",
    "# Convert to Dataset format\n",
    "dataset = Dataset.from_dict({\n",
    "    'input_ids': tokenized_data['input_ids'],\n",
    "    'attention_mask': tokenized_data['attention_mask'],\n",
    "    'labels': labels\n",
    "})\n",
    "\n",
    "# Split dataset into test set\n",
    "eval_dataset = dataset.train_test_split(test_size=0.1)['test']\n",
    "from transformers import AutoModelForSequenceClassification, Trainer\n",
    "\n",
    "# Load model\n",
    "model = AutoModelForSequenceClassification.from_pretrained(\"../models/final_model\")\n",
    "trainer = Trainer(model=model)\n",
    "\n",
    "# Evaluate the model\n",
    "predictions = trainer.predict(eval_dataset)\n",
    "preds = predictions.predictions.argmax(-1)\n",
    "\n",
    "# Calculate metrics\n",
    "accuracy = accuracy_score(eval_dataset['labels'], preds)\n",
    "f1 = f1_score(eval_dataset['labels'], preds, average='weighted')\n",
    "\n",
    "print(f\"Accuracy: {accuracy:.4f}, F1 Score: {f1:.4f}\")"
   ]
  }
 ],
 "metadata": {
  "language_info": {
   "name": "python"
  }
 },
 "nbformat": 4,
 "nbformat_minor": 2
}
